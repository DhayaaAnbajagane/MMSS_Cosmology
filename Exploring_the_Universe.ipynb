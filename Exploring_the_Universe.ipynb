{
 "cells": [
  {
   "cell_type": "markdown",
   "metadata": {},
   "source": [
    "# The Evolution of our Universe\n",
    "\n",
    "\n",
    "\n",
    "Here, we're going to first see how $\\Omega_m$ (matter), $\\Omega_r$ (radiation), annd $\\Omega_\\Lambda$ (dark energy) evolve with scale factor $a(t)$. <i> We are not doing any programming </i>. We are merely using this notebook as a fancy, specialized calculator. So all you need to do is pick and input numbers and/or mathematical functions."
   ]
  },
  {
   "cell_type": "markdown",
   "metadata": {},
   "source": [
    "## STEP ONE: Importing our fancy calculator\n",
    "\n",
    "Simply click on this cell and press CTRL + ENTER."
   ]
  },
  {
   "cell_type": "code",
   "execution_count": null,
   "metadata": {
    "ExecuteTime": {
     "end_time": "2020-07-30T12:20:20.746842Z",
     "start_time": "2020-07-30T12:20:18.660418Z"
    }
   },
   "outputs": [],
   "source": [
    "#Import our custom, fancy calculator functions\n",
    "\n",
    "from MMSS_cosmology import Our_Universe, New_Universe\n",
    "import numpy as np\n",
    "\n",
    "print(\"You have finished loading our functions\")"
   ]
  },
  {
   "cell_type": "markdown",
   "metadata": {},
   "source": [
    "## STEP TWO: Looking at our Universe\n",
    "\n",
    "Using the function below, we wil see how the energy densities of matter, radiation, and dark energy evolve as the Universe expands. Once you run it (using CTRL + ENTER) you will obtain a plot (or graph/image) that we will study."
   ]
  },
  {
   "cell_type": "code",
   "execution_count": null,
   "metadata": {
    "ExecuteTime": {
     "end_time": "2020-07-30T12:20:23.045698Z",
     "start_time": "2020-07-30T12:20:20.750832Z"
    },
    "scrolled": false
   },
   "outputs": [],
   "source": [
    "Our_Universe(Omega_m=0.3, Omega_r=2e-5, Omega_l=0.7)"
   ]
  },
  {
   "cell_type": "markdown",
   "metadata": {},
   "source": [
    "## STEP THREE: Looking at a new Universe\n",
    "\n",
    "We will repeat the same exercise as before, but now for an \"updated\" Universe with a new 4th component. We will choose a $w_{\\rm new}(a)$ for this new component and see how it changes our previous picture of the Universe."
   ]
  },
  {
   "cell_type": "markdown",
   "metadata": {},
   "source": [
    "### Choosing a $w_{\\rm new} = f(a)$"
   ]
  },
  {
   "cell_type": "code",
   "execution_count": null,
   "metadata": {
    "ExecuteTime": {
     "end_time": "2020-07-30T12:20:50.233053Z",
     "start_time": "2020-07-30T12:20:50.228066Z"
    }
   },
   "outputs": [],
   "source": [
    "def f(a):\n",
    "    \n",
    "    w = #INSERT YOUR FUNCTION HERE\n",
    "    \n",
    "    return w"
   ]
  },
  {
   "cell_type": "markdown",
   "metadata": {},
   "source": [
    "### Example functions to try above\n",
    "\n",
    "1. <b>Trigonometry functions:</b>\n",
    "\n",
    "    a. $\\sin(x)$ -> np.sin(x)\n",
    "    \n",
    "    b. $\\cos(x)$ -> np.cos(x)\n",
    "\n",
    "\n",
    "3. <b>Exponential function:</b>\n",
    "\n",
    "    a. $e^x$ -> np.exp(x)\n",
    "\n",
    "\n",
    "4. <b>Single term:</b>\n",
    "\n",
    "    a. $x^2$ -> x\\*\\*2\n",
    "\n",
    "\n",
    "5. <b>Polynomial:</b>\n",
    "\n",
    "    a. $x + ax^2 + bx^3$ -> x + a\\*x\\*\\*2 + b\\*x\\*\\*3\n",
    "\n",
    "\n",
    "6. <b>Inverse term:</b>\n",
    "\n",
    "    a. $\\frac{1}{x + 1}$ -> 1/(x + 1)"
   ]
  },
  {
   "cell_type": "code",
   "execution_count": null,
   "metadata": {
    "ExecuteTime": {
     "end_time": "2020-07-30T12:20:53.907231Z",
     "start_time": "2020-07-30T12:20:51.393949Z"
    }
   },
   "outputs": [],
   "source": [
    "New_Universe(Omega_new = 5, #<--- you can change this value to whatever positive value you want\n",
    "             name = 'Oscillating', #<---- you change the word inside the quotes to whatever word you'd like!\n",
    "             w_new = f, a_start=1e-2, a_end=1e1, )"
   ]
  }
 ],
 "metadata": {
  "kernelspec": {
   "display_name": "Python [conda env:root] *",
   "language": "python",
   "name": "conda-root-py"
  },
  "language_info": {
   "codemirror_mode": {
    "name": "ipython",
    "version": 3
   },
   "file_extension": ".py",
   "mimetype": "text/x-python",
   "name": "python",
   "nbconvert_exporter": "python",
   "pygments_lexer": "ipython3",
   "version": "3.6.8"
  }
 },
 "nbformat": 4,
 "nbformat_minor": 2
}
